{
 "cells": [
  {
   "cell_type": "code",
   "execution_count": null,
   "id": "cd4c8476-b794-4b85-bb0d-54a9619b8e00",
   "metadata": {},
   "outputs": [],
   "source": [
    "include(\"todev.jl\"); todev()\n",
    "include(\"../shared/tomdcode.jl\")"
   ]
  },
  {
   "cell_type": "code",
   "execution_count": null,
   "id": "21bea0fe-8dee-41b0-832f-87566fd53050",
   "metadata": {},
   "outputs": [],
   "source": [
    "md\"\"\"### The `graphcol_1` module\n",
    "* it only defines the data reading function\n",
    "\"\"\"|>display\n",
    "tomdcode(\"src/genalg_1.jl\")"
   ]
  }
 ],
 "metadata": {
  "kernelspec": {
   "display_name": "Julia 1.9.2",
   "language": "julia",
   "name": "julia-1.9"
  },
  "language_info": {
   "file_extension": ".jl",
   "mimetype": "application/julia",
   "name": "julia",
   "version": "1.9.2"
  }
 },
 "nbformat": 4,
 "nbformat_minor": 5
}
