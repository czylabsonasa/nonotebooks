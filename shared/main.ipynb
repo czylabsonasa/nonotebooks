{
 "cells": [
  {
   "cell_type": "markdown",
   "id": "032a1973-a836-4150-8638-5c9dbfbabf98",
   "metadata": {},
   "source": [
    "## tit\n",
    "* blah\n",
    "* blah"
   ]
  },
  {
   "cell_type": "code",
   "execution_count": 3,
   "id": "cd4c8476-b794-4b85-bb0d-54a9619b8e00",
   "metadata": {},
   "outputs": [
    {
     "data": {
      "text/plain": [
       "true"
      ]
     },
     "execution_count": 3,
     "metadata": {},
     "output_type": "execute_result"
    }
   ],
   "source": [
    "include(\"todev.jl\"); todev()\n",
    "include(\"../shared/tomdcode.jl\")\n",
    "_JLAB_=true"
   ]
  },
  {
   "cell_type": "code",
   "execution_count": 4,
   "id": "21bea0fe-8dee-41b0-832f-87566fd53050",
   "metadata": {},
   "outputs": [
    {
     "data": {
      "text/latex": [
       "\\subsubsection{The \\texttt{blah} module}\n",
       "\\begin{itemize}\n",
       "\\item blah\n",
       "\n",
       "\\end{itemize}\n"
      ],
      "text/markdown": [
       "### The `blah` module\n",
       "\n",
       "  * blah\n"
      ],
      "text/plain": [
       "\u001b[1m  The \u001b[36mblah\u001b[39m module\u001b[22m\n",
       "\u001b[1m  –––––––––––––––––\u001b[22m\n",
       "\n",
       "    •  blah"
      ]
     },
     "metadata": {},
     "output_type": "display_data"
    }
   ],
   "source": [
    "md\"\"\"### The `blah` module\n",
    "* blah\n",
    "\"\"\"|>display\n",
    "#tomdcode(\"src/blah.jl\")"
   ]
  },
  {
   "cell_type": "code",
   "execution_count": 6,
   "id": "6910f0ec-b0d3-4084-88e1-f24c2f35c393",
   "metadata": {},
   "outputs": [
    {
     "data": {
      "text/latex": [
       "\\subsubsection{The client code}\n"
      ],
      "text/markdown": [
       "### The client code\n"
      ],
      "text/plain": [
       "\u001b[1m  The client code\u001b[22m\n",
       "\u001b[1m  –––––––––––––––––\u001b[22m"
      ]
     },
     "metadata": {},
     "output_type": "display_data"
    },
    {
     "data": {
      "text/latex": [
       "\\begin{verbatim}\n",
       "using blah\n",
       "@time blahblah\n",
       "\n",
       "\\end{verbatim}\n"
      ],
      "text/markdown": [
       "```julia\n",
       "using blah\n",
       "@time blahblah\n",
       "\n",
       "```\n"
      ],
      "text/plain": [
       "\u001b[36m  using blah\u001b[39m\n",
       "\u001b[36m  @time blahblah\u001b[39m\n",
       "\u001b[36m  \u001b[39m"
      ]
     },
     "execution_count": 6,
     "metadata": {},
     "output_type": "execute_result"
    }
   ],
   "source": [
    "md\"\"\"### The client code\n",
    "\"\"\"|>display\n",
    "tomdcode(\"main.jl\")"
   ]
  },
  {
   "cell_type": "code",
   "execution_count": 8,
   "id": "7b6e3ca9-50e0-4e0f-bfdf-2d8efc06559d",
   "metadata": {},
   "outputs": [
    {
     "data": {
      "text/latex": [
       "\\subsubsection{The output}\n"
      ],
      "text/markdown": [
       "### The output\n"
      ],
      "text/plain": [
       "\u001b[1m  The output\u001b[22m\n",
       "\u001b[1m  ––––––––––––\u001b[22m"
      ]
     },
     "metadata": {},
     "output_type": "display_data"
    },
    {
     "name": "stdout",
     "output_type": "stream",
     "text": [
      "\u001b[34mblah\u001b[39m\n",
      "  0.004073 seconds (1.10 k allocations: 75.930 KiB, 99.13% compilation time)\n"
     ]
    },
    {
     "data": {
      "text/plain": [
       "1024"
      ]
     },
     "execution_count": 8,
     "metadata": {},
     "output_type": "execute_result"
    }
   ],
   "source": [
    "md\"\"\"### The output\n",
    "\"\"\"|>display\n",
    "include(\"main.jl\")"
   ]
  },
  {
   "cell_type": "markdown",
   "id": "7b646848-7921-4747-a010-41db3034340e",
   "metadata": {},
   "source": [
    "### Note\n",
    "* blahblahblah"
   ]
  }
 ],
 "metadata": {
  "kernelspec": {
   "display_name": "Julia 1.9.2",
   "language": "julia",
   "name": "julia-1.9"
  },
  "language_info": {
   "file_extension": ".jl",
   "mimetype": "application/julia",
   "name": "julia",
   "version": "1.9.2"
  }
 },
 "nbformat": 4,
 "nbformat_minor": 5
}
