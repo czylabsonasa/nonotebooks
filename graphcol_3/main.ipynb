{
 "cells": [
  {
   "cell_type": "markdown",
   "id": "032a1973-a836-4150-8638-5c9dbfbabf98",
   "metadata": {},
   "source": [
    "## graphcol_3\n",
    "* graph loader/converter for dimacs `col` format: `loadcol`\n",
    "* the data is from [Michael Trick's page](https://mat.gsia.cmu.edu/COLOR/instances.html)\n",
    "* dimacs is an old/simple format described [here](https://mat.gsia.cmu.edu/COLOR/general/ccformat.ps)"
   ]
  },
  {
   "cell_type": "code",
   "execution_count": 10,
   "id": "cd4c8476-b794-4b85-bb0d-54a9619b8e00",
   "metadata": {},
   "outputs": [
    {
     "data": {
      "text/plain": [
       "true"
      ]
     },
     "execution_count": 10,
     "metadata": {},
     "output_type": "execute_result"
    }
   ],
   "source": [
    "include(\"../shared/tomdcode.jl\")\n",
    "_JLAB_=true"
   ]
  },
  {
   "cell_type": "code",
   "execution_count": 11,
   "id": "21bea0fe-8dee-41b0-832f-87566fd53050",
   "metadata": {},
   "outputs": [
    {
     "data": {
      "text/latex": [
       "\\subsubsection{The \\texttt{grapcol\\_3} module}\n",
       "\\begin{itemize}\n",
       "\\item the \\texttt{tolg} parameter for converting the data into the default \\texttt{lg} format\n",
       "\n",
       "\n",
       "\\item for the instances where the optimum is known, the value is built into the file, and if \\texttt{toopt} is true a separate file will be created containing it.\n",
       "\n",
       "\\end{itemize}\n"
      ],
      "text/markdown": [
       "### The `grapcol_3` module\n",
       "\n",
       "  * the `tolg` parameter for converting the data into the default `lg` format\n",
       "  * for the instances where the optimum is known, the value is built into the file, and if `toopt` is true a separate file will be created containing it.\n"
      ],
      "text/plain": [
       "\u001b[1m  The \u001b[36mgrapcol_3\u001b[39m module\u001b[22m\n",
       "\u001b[1m  ––––––––––––––––––––––\u001b[22m\n",
       "\n",
       "    •  the \u001b[36mtolg\u001b[39m parameter for converting the data into the default \u001b[36mlg\u001b[39m\n",
       "       format\n",
       "\n",
       "    •  for the instances where the optimum is known, the value is built\n",
       "       into the file, and if \u001b[36mtoopt\u001b[39m is true a separate file will be\n",
       "       created containing it."
      ]
     },
     "metadata": {},
     "output_type": "display_data"
    },
    {
     "data": {
      "text/latex": [
       "\\begin{verbatim}\n",
       "module graphcol_3\n",
       "  # .col extension is a must\n",
       "  function loadcol(gfile::String; tolg = false, toopt = false)\n",
       "    _e(msg) = error(\"loadcol: $(msg)\")\n",
       "\n",
       "    !isfile(gfile) && _e(\"no such file\")\n",
       "    sfile = split(gfile, '.')\n",
       "    (sfile[end] != \"col\") && _e(\"wrong extension\")\n",
       "    gstring = split(read(gfile, String), '\\n', keepempty = false)\n",
       "\n",
       "    num_colors = -1\n",
       "    E = []\n",
       "    nV, nE = -1, -1\n",
       "    for line in gstring\n",
       "      sline = split(line, keepempty = false)\n",
       "      (sline[1] == \"c\") && continue\n",
       "\n",
       "      if sline[1] == \"p\" # only the last counts, but must precede the first 'p' line, bcos it  is used in a sanity check\n",
       "        nV, nE = parse.(Int, sline[3:end])\n",
       "        continue\n",
       "      end\n",
       "      if sline[1] == \"e\"\n",
       "        a, b = parse.(Int, split(line)[2:end])\n",
       "        if a < 1 || a > nV || b < 1 || b > nV\n",
       "          _e(\"vertex is out of range\")\n",
       "        end\n",
       "        push!(E, (a, b))\n",
       "        continue\n",
       "      end\n",
       "      if sline[1] == \"num_colors\"\n",
       "        num_colors = parse(Int, sline[2])\n",
       "        continue\n",
       "      end\n",
       "    end\n",
       "    if nV < 0 || nE < 0 || length(E) != nE\n",
       "      _e(\"wrong data\")\n",
       "    end\n",
       "    G = Graph()\n",
       "    add_vertices!(G, nV)\n",
       "    for (a, b) in E\n",
       "      add_edge!(G, a, b)\n",
       "    end\n",
       "    if tolg == true\n",
       "      sfile = join(sfile[1:end-1], '.')\n",
       "      savegraph(\"$(sfile).lg\", G)\n",
       "      printstyled(stderr, \"saved $(sfile).lg\\n\"; color = :green)\n",
       "    end\n",
       "    if num_colors > 0 && toopt == true\n",
       "      open(\"$(sfile).opt\", \"w\") do f\n",
       "        println(f, num_colors)\n",
       "      end\n",
       "      printstyled(stderr, \"saved $(sfile).opt\\n\"; color = :yellow)\n",
       "    end\n",
       "    G\n",
       "  end\n",
       "  export loadcol\n",
       "\n",
       "end\n",
       "\n",
       "\n",
       "\\end{verbatim}\n"
      ],
      "text/markdown": [
       "```julia\n",
       "module graphcol_3\n",
       "  # .col extension is a must\n",
       "  function loadcol(gfile::String; tolg = false, toopt = false)\n",
       "    _e(msg) = error(\"loadcol: $(msg)\")\n",
       "\n",
       "    !isfile(gfile) && _e(\"no such file\")\n",
       "    sfile = split(gfile, '.')\n",
       "    (sfile[end] != \"col\") && _e(\"wrong extension\")\n",
       "    gstring = split(read(gfile, String), '\\n', keepempty = false)\n",
       "\n",
       "    num_colors = -1\n",
       "    E = []\n",
       "    nV, nE = -1, -1\n",
       "    for line in gstring\n",
       "      sline = split(line, keepempty = false)\n",
       "      (sline[1] == \"c\") && continue\n",
       "\n",
       "      if sline[1] == \"p\" # only the last counts, but must precede the first 'p' line, bcos it  is used in a sanity check\n",
       "        nV, nE = parse.(Int, sline[3:end])\n",
       "        continue\n",
       "      end\n",
       "      if sline[1] == \"e\"\n",
       "        a, b = parse.(Int, split(line)[2:end])\n",
       "        if a < 1 || a > nV || b < 1 || b > nV\n",
       "          _e(\"vertex is out of range\")\n",
       "        end\n",
       "        push!(E, (a, b))\n",
       "        continue\n",
       "      end\n",
       "      if sline[1] == \"num_colors\"\n",
       "        num_colors = parse(Int, sline[2])\n",
       "        continue\n",
       "      end\n",
       "    end\n",
       "    if nV < 0 || nE < 0 || length(E) != nE\n",
       "      _e(\"wrong data\")\n",
       "    end\n",
       "    G = Graph()\n",
       "    add_vertices!(G, nV)\n",
       "    for (a, b) in E\n",
       "      add_edge!(G, a, b)\n",
       "    end\n",
       "    if tolg == true\n",
       "      sfile = join(sfile[1:end-1], '.')\n",
       "      savegraph(\"$(sfile).lg\", G)\n",
       "      printstyled(stderr, \"saved $(sfile).lg\\n\"; color = :green)\n",
       "    end\n",
       "    if num_colors > 0 && toopt == true\n",
       "      open(\"$(sfile).opt\", \"w\") do f\n",
       "        println(f, num_colors)\n",
       "      end\n",
       "      printstyled(stderr, \"saved $(sfile).opt\\n\"; color = :yellow)\n",
       "    end\n",
       "    G\n",
       "  end\n",
       "  export loadcol\n",
       "\n",
       "end\n",
       "\n",
       "\n",
       "```\n"
      ],
      "text/plain": [
       "\u001b[36m  module graphcol_3\u001b[39m\n",
       "\u001b[36m    # .col extension is a must\u001b[39m\n",
       "\u001b[36m    function loadcol(gfile::String; tolg = false, toopt = false)\u001b[39m\n",
       "\u001b[36m      _e(msg) = error(\"loadcol: $(msg)\")\u001b[39m\n",
       "\u001b[36m  \u001b[39m\n",
       "\u001b[36m      !isfile(gfile) && _e(\"no such file\")\u001b[39m\n",
       "\u001b[36m      sfile = split(gfile, '.')\u001b[39m\n",
       "\u001b[36m      (sfile[end] != \"col\") && _e(\"wrong extension\")\u001b[39m\n",
       "\u001b[36m      gstring = split(read(gfile, String), '\\n', keepempty = false)\u001b[39m\n",
       "\u001b[36m  \u001b[39m\n",
       "\u001b[36m      num_colors = -1\u001b[39m\n",
       "\u001b[36m      E = []\u001b[39m\n",
       "\u001b[36m      nV, nE = -1, -1\u001b[39m\n",
       "\u001b[36m      for line in gstring\u001b[39m\n",
       "\u001b[36m        sline = split(line, keepempty = false)\u001b[39m\n",
       "\u001b[36m        (sline[1] == \"c\") && continue\u001b[39m\n",
       "\u001b[36m  \u001b[39m\n",
       "\u001b[36m        if sline[1] == \"p\" # only the last counts, but must precede the first 'p' line, bcos it  is used in a sanity check\u001b[39m\n",
       "\u001b[36m          nV, nE = parse.(Int, sline[3:end])\u001b[39m\n",
       "\u001b[36m          continue\u001b[39m\n",
       "\u001b[36m        end\u001b[39m\n",
       "\u001b[36m        if sline[1] == \"e\"\u001b[39m\n",
       "\u001b[36m          a, b = parse.(Int, split(line)[2:end])\u001b[39m\n",
       "\u001b[36m          if a < 1 || a > nV || b < 1 || b > nV\u001b[39m\n",
       "\u001b[36m            _e(\"vertex is out of range\")\u001b[39m\n",
       "\u001b[36m          end\u001b[39m\n",
       "\u001b[36m          push!(E, (a, b))\u001b[39m\n",
       "\u001b[36m          continue\u001b[39m\n",
       "\u001b[36m        end\u001b[39m\n",
       "\u001b[36m        if sline[1] == \"num_colors\"\u001b[39m\n",
       "\u001b[36m          num_colors = parse(Int, sline[2])\u001b[39m\n",
       "\u001b[36m          continue\u001b[39m\n",
       "\u001b[36m        end\u001b[39m\n",
       "\u001b[36m      end\u001b[39m\n",
       "\u001b[36m      if nV < 0 || nE < 0 || length(E) != nE\u001b[39m\n",
       "\u001b[36m        _e(\"wrong data\")\u001b[39m\n",
       "\u001b[36m      end\u001b[39m\n",
       "\u001b[36m      G = Graph()\u001b[39m\n",
       "\u001b[36m      add_vertices!(G, nV)\u001b[39m\n",
       "\u001b[36m      for (a, b) in E\u001b[39m\n",
       "\u001b[36m        add_edge!(G, a, b)\u001b[39m\n",
       "\u001b[36m      end\u001b[39m\n",
       "\u001b[36m      if tolg == true\u001b[39m\n",
       "\u001b[36m        sfile = join(sfile[1:end-1], '.')\u001b[39m\n",
       "\u001b[36m        savegraph(\"$(sfile).lg\", G)\u001b[39m\n",
       "\u001b[36m        printstyled(stderr, \"saved $(sfile).lg\\n\"; color = :green)\u001b[39m\n",
       "\u001b[36m      end\u001b[39m\n",
       "\u001b[36m      if num_colors > 0 && toopt == true\u001b[39m\n",
       "\u001b[36m        open(\"$(sfile).opt\", \"w\") do f\u001b[39m\n",
       "\u001b[36m          println(f, num_colors)\u001b[39m\n",
       "\u001b[36m        end\u001b[39m\n",
       "\u001b[36m        printstyled(stderr, \"saved $(sfile).opt\\n\"; color = :yellow)\u001b[39m\n",
       "\u001b[36m      end\u001b[39m\n",
       "\u001b[36m      G\u001b[39m\n",
       "\u001b[36m    end\u001b[39m\n",
       "\u001b[36m    export loadcol\u001b[39m\n",
       "\u001b[36m  \u001b[39m\n",
       "\u001b[36m  end\u001b[39m\n",
       "\u001b[36m  \u001b[39m\n",
       "\u001b[36m  \u001b[39m"
      ]
     },
     "execution_count": 11,
     "metadata": {},
     "output_type": "execute_result"
    }
   ],
   "source": [
    "md\"\"\"### The `grapcol_3` module\n",
    "* the `tolg` parameter for converting the data into the default `lg` format\n",
    "* for the instances where the optimum is known, the value is built into the file, and if `toopt` is true a separate file will be created containing it.\n",
    "\"\"\"|>display\n",
    "tomdcode(\"src/graphcol_3.jl\")"
   ]
  },
  {
   "cell_type": "code",
   "execution_count": 12,
   "id": "6910f0ec-b0d3-4084-88e1-f24c2f35c393",
   "metadata": {},
   "outputs": [
    {
     "data": {
      "text/latex": [
       "\\subsubsection{The client code}\n"
      ],
      "text/markdown": [
       "### The client code\n"
      ],
      "text/plain": [
       "\u001b[1m  The client code\u001b[22m\n",
       "\u001b[1m  –––––––––––––––––\u001b[22m"
      ]
     },
     "metadata": {},
     "output_type": "display_data"
    },
    {
     "data": {
      "text/latex": [
       "\\begin{verbatim}\n",
       "include(\"todev.jl\"); todev([\"../graphcol_2/src\"])\n",
       "using graphcol_2: graphcol_bt\n",
       "using Graphs\n",
       "\n",
       "#### convert the col's to lg's\n",
       "printstyled(\"convert the col's to lg's in a directory\\n\",color=:light_white)\n",
       "for f in readdir(\"../data/col-instances/\"; join = true)\n",
       "  sf = split(f, '.')\n",
       "  if sf[end] == \"col\"\n",
       "    jf = join(sf[1:end-1], '.')\n",
       "    isfile(\"$(jf).lg\") && isfile(\"$(jf).opt\") && continue\n",
       "    loadcol(f; tolg = true, toopt = true)\n",
       "  end\n",
       "end\n",
       "\n",
       "# test \n",
       "printstyled(\"\"\"\n",
       "\\nperform some tests w/ the newly converted data+graphcol_bt\n",
       "note, that we know optimum and it will be used\n",
       "\"\"\",color=:light_blue)\n",
       "G = loadgraph(\"../data/col-instances/queen5_5.lg\")\n",
       "opt = parse(Int, read(\"../data/col-instances/queen5_5.opt\", String))\n",
       "printstyled(\"\\ndata: queen5_5.lg, opt=$(opt)\\n\", color=:light_yellow)\n",
       "printstyled(\"\\ngraphcol_bt+coloring w/ $(opt-1) colors\\n\", color=:green)\n",
       "@time graphcol_bt(G, opt - 1) |> println\n",
       "printstyled(\"\\ngraphcol_bt+coloring w/ $(opt) colors\\n\", color=:green)\n",
       "@time graphcol_bt(G, opt) |> println\n",
       "reps=33\n",
       "printstyled(\"\\ngreedy_color, reps=$(reps)\\n\", color=:green)\n",
       "@time greedy_color(G, reps = reps) |> println\n",
       "\n",
       "\\end{verbatim}\n"
      ],
      "text/markdown": [
       "```julia\n",
       "include(\"todev.jl\"); todev([\"../graphcol_2/src\"])\n",
       "using graphcol_2: graphcol_bt\n",
       "using Graphs\n",
       "\n",
       "#### convert the col's to lg's\n",
       "printstyled(\"convert the col's to lg's in a directory\\n\",color=:light_white)\n",
       "for f in readdir(\"../data/col-instances/\"; join = true)\n",
       "  sf = split(f, '.')\n",
       "  if sf[end] == \"col\"\n",
       "    jf = join(sf[1:end-1], '.')\n",
       "    isfile(\"$(jf).lg\") && isfile(\"$(jf).opt\") && continue\n",
       "    loadcol(f; tolg = true, toopt = true)\n",
       "  end\n",
       "end\n",
       "\n",
       "# test \n",
       "printstyled(\"\"\"\n",
       "\\nperform some tests w/ the newly converted data+graphcol_bt\n",
       "note, that we know optimum and it will be used\n",
       "\"\"\",color=:light_blue)\n",
       "G = loadgraph(\"../data/col-instances/queen5_5.lg\")\n",
       "opt = parse(Int, read(\"../data/col-instances/queen5_5.opt\", String))\n",
       "printstyled(\"\\ndata: queen5_5.lg, opt=$(opt)\\n\", color=:light_yellow)\n",
       "printstyled(\"\\ngraphcol_bt+coloring w/ $(opt-1) colors\\n\", color=:green)\n",
       "@time graphcol_bt(G, opt - 1) |> println\n",
       "printstyled(\"\\ngraphcol_bt+coloring w/ $(opt) colors\\n\", color=:green)\n",
       "@time graphcol_bt(G, opt) |> println\n",
       "reps=33\n",
       "printstyled(\"\\ngreedy_color, reps=$(reps)\\n\", color=:green)\n",
       "@time greedy_color(G, reps = reps) |> println\n",
       "\n",
       "```\n"
      ],
      "text/plain": [
       "\u001b[36m  include(\"todev.jl\"); todev([\"../graphcol_2/src\"])\u001b[39m\n",
       "\u001b[36m  using graphcol_2: graphcol_bt\u001b[39m\n",
       "\u001b[36m  using Graphs\u001b[39m\n",
       "\u001b[36m  \u001b[39m\n",
       "\u001b[36m  #### convert the col's to lg's\u001b[39m\n",
       "\u001b[36m  printstyled(\"convert the col's to lg's in a directory\\n\",color=:light_white)\u001b[39m\n",
       "\u001b[36m  for f in readdir(\"../data/col-instances/\"; join = true)\u001b[39m\n",
       "\u001b[36m    sf = split(f, '.')\u001b[39m\n",
       "\u001b[36m    if sf[end] == \"col\"\u001b[39m\n",
       "\u001b[36m      jf = join(sf[1:end-1], '.')\u001b[39m\n",
       "\u001b[36m      isfile(\"$(jf).lg\") && isfile(\"$(jf).opt\") && continue\u001b[39m\n",
       "\u001b[36m      loadcol(f; tolg = true, toopt = true)\u001b[39m\n",
       "\u001b[36m    end\u001b[39m\n",
       "\u001b[36m  end\u001b[39m\n",
       "\u001b[36m  \u001b[39m\n",
       "\u001b[36m  # test \u001b[39m\n",
       "\u001b[36m  printstyled(\"\"\"\u001b[39m\n",
       "\u001b[36m  \\nperform some tests w/ the newly converted data+graphcol_bt\u001b[39m\n",
       "\u001b[36m  note, that we know optimum and it will be used\u001b[39m\n",
       "\u001b[36m  \"\"\",color=:light_blue)\u001b[39m\n",
       "\u001b[36m  G = loadgraph(\"../data/col-instances/queen5_5.lg\")\u001b[39m\n",
       "\u001b[36m  opt = parse(Int, read(\"../data/col-instances/queen5_5.opt\", String))\u001b[39m\n",
       "\u001b[36m  printstyled(\"\\ndata: queen5_5.lg, opt=$(opt)\\n\", color=:light_yellow)\u001b[39m\n",
       "\u001b[36m  printstyled(\"\\ngraphcol_bt+coloring w/ $(opt-1) colors\\n\", color=:green)\u001b[39m\n",
       "\u001b[36m  @time graphcol_bt(G, opt - 1) |> println\u001b[39m\n",
       "\u001b[36m  printstyled(\"\\ngraphcol_bt+coloring w/ $(opt) colors\\n\", color=:green)\u001b[39m\n",
       "\u001b[36m  @time graphcol_bt(G, opt) |> println\u001b[39m\n",
       "\u001b[36m  reps=33\u001b[39m\n",
       "\u001b[36m  printstyled(\"\\ngreedy_color, reps=$(reps)\\n\", color=:green)\u001b[39m\n",
       "\u001b[36m  @time greedy_color(G, reps = reps) |> println\u001b[39m\n",
       "\u001b[36m  \u001b[39m"
      ]
     },
     "execution_count": 12,
     "metadata": {},
     "output_type": "execute_result"
    }
   ],
   "source": [
    "md\"\"\"### The client code\n",
    "\"\"\"|>display\n",
    "tomdcode(\"main.jl\")"
   ]
  },
  {
   "cell_type": "code",
   "execution_count": 13,
   "id": "7b6e3ca9-50e0-4e0f-bfdf-2d8efc06559d",
   "metadata": {},
   "outputs": [
    {
     "data": {
      "text/latex": [
       "\\subsubsection{The output}\n"
      ],
      "text/markdown": [
       "### The output\n"
      ],
      "text/plain": [
       "\u001b[1m  The output\u001b[22m\n",
       "\u001b[1m  ––––––––––––\u001b[22m"
      ]
     },
     "metadata": {},
     "output_type": "display_data"
    },
    {
     "name": "stdout",
     "output_type": "stream",
     "text": [
      "\u001b[97mconvert the col's to lg's in a directory\u001b[39m\n",
      "\n",
      "\u001b[94mperform some tests w/ the newly converted data+graphcol_bt\u001b[39m\n",
      "\u001b[94mnote, that we know optimum and it will be used\u001b[39m\n",
      "\n",
      "\u001b[93mdata: queen5_5.lg, opt=5\u001b[39m\n",
      "\n",
      "\u001b[32mgraphcol_bt+coloring w/ 4 colors\u001b[39m\n",
      "(num_colors = -1, colors = nothing)\n",
      "  0.000133 seconds (198 allocations: 16.172 KiB)\n",
      "\n",
      "\u001b[32mgraphcol_bt+coloring w/ 5 colors\u001b[39m\n",
      "(num_colors = 5, colors = [1, 2, 3, 4, 5, 3, 4, 5, 1, 2, 5, 1, 2, 3, 4, 2, 3, 4, 5, 1, 4, 5, 1, 2, 3])\n",
      "  0.000598 seconds (1.03 k allocations: 36.594 KiB)\n",
      "\n",
      "\u001b[32mgreedy_color, reps=33\u001b[39m\n",
      "Graphs.Coloring{Int64}(5, [4, 3, 5, 2, 1, 5, 2, 1, 4, 3, 1, 4, 3, 5, 2, 3, 5, 2, 1, 4, 2, 1, 4, 3, 5])\n",
      "  0.001138 seconds (1.99 k allocations: 118.289 KiB)\n"
     ]
    }
   ],
   "source": [
    "md\"\"\"### The output\n",
    "\"\"\"|>display\n",
    "include(\"main.jl\")"
   ]
  }
 ],
 "metadata": {
  "kernelspec": {
   "display_name": "Julia 1.9.2",
   "language": "julia",
   "name": "julia-1.9"
  },
  "language_info": {
   "file_extension": ".jl",
   "mimetype": "application/julia",
   "name": "julia",
   "version": "1.9.2"
  }
 },
 "nbformat": 4,
 "nbformat_minor": 5
}
